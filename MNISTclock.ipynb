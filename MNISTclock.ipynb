{
 "cells": [
  {
   "cell_type": "code",
   "execution_count": 59,
   "id": "a3942981-71fe-4b92-946a-67bf7f1319de",
   "metadata": {},
   "outputs": [],
   "source": [
    "import time\n",
    "\n",
    "import numpy as np\n",
    "from IPython import display\n",
    "import pylab as pl\n",
    "from sklearn.datasets import fetch_openml\n",
    "import matplotlib.pyplot as plt\n",
    "\n",
    "%matplotlib inline"
   ]
  },
  {
   "cell_type": "code",
   "execution_count": 2,
   "id": "8c60a1ec-e743-4b4a-926e-9c4fc4c80fc0",
   "metadata": {},
   "outputs": [],
   "source": [
    "edges = np.loadtxt('item/MNIST/edges.txt', dtype=np.int64)"
   ]
  },
  {
   "cell_type": "code",
   "execution_count": 3,
   "id": "1c58afdf-dc34-4254-ad63-c165abe971c8",
   "metadata": {},
   "outputs": [],
   "source": [
    "X, y = fetch_openml(\"mnist_784\", version=1, return_X_y=True, as_frame=False)\n",
    "\n",
    "train_data = X[:60000]\n",
    "train_targets = y[:60000]\n",
    "train_targets = np.array(list(map(int, train_targets)))"
   ]
  },
  {
   "cell_type": "code",
   "execution_count": 37,
   "id": "65ecfd38-3f9b-4e7c-ab59-e147866b1b7f",
   "metadata": {},
   "outputs": [],
   "source": [
    "class RandomWalker():\n",
    "    def __init__(self, edges, y, seed=42, init_idx=0):\n",
    "        self.edges = edges\n",
    "        self.node_targets = y\n",
    "        self.rng = np.random.default_rng(seed)\n",
    "        self.index = init_idx\n",
    "    \n",
    "    def walk(self):\n",
    "        choices = np.unique(self.edges[np.isin(edges, self.index).any(1)])\n",
    "        choices = choices[choices != self.index]\n",
    "        self.index = self.rng.choice(choices)"
   ]
  },
  {
   "cell_type": "code",
   "execution_count": 4,
   "id": "2ae10930-9c0e-433d-9eae-89d741ac9132",
   "metadata": {},
   "outputs": [],
   "source": [
    "def hopping_from_one_class(edges, node_targets, label, max_hop=100, out=False):\n",
    "    nodes_init = np.nonzero(node_targets == label)[0]\n",
    "    hop_count = np.ones(len(node_targets)) * max_hop\n",
    "\n",
    "    nodes_hopped = nodes_init\n",
    "    hop_count[nodes_hopped] = 0\n",
    "    if out:\n",
    "        print(f'0-hopped nodes num:{len(nodes_hopped)}')\n",
    "    k = 1\n",
    "    while len(nodes_hopped) < len(node_targets):\n",
    "        edges_hopped = edges[np.isin(edges, nodes_hopped).any(1)]\n",
    "        nodes_hopped = np.unique(edges_hopped)\n",
    "        hop_count[nodes_hopped] = np.minimum(hop_count[nodes_hopped], k)\n",
    "        if out:\n",
    "            print(f'{k}-hopped nodes num:{len(nodes_hopped)}')\n",
    "        k += 1\n",
    "\n",
    "    return hop_count"
   ]
  },
  {
   "cell_type": "code",
   "execution_count": 5,
   "id": "0903b229-5f1a-468d-894a-ee1e53dfce08",
   "metadata": {},
   "outputs": [],
   "source": [
    "to_another_class = [hopping_from_one_class(edges, train_targets, c) for c in np.unique(train_targets)]\n",
    "to_another_class = np.array(to_another_class, dtype=np.int32).T"
   ]
  },
  {
   "cell_type": "code",
   "execution_count": 56,
   "id": "dd8bad52-e895-44ae-b03a-124f88a88bd8",
   "metadata": {},
   "outputs": [],
   "source": [
    "class TimeWalker():\n",
    "    def __init__(self, edges, train_targets, to_another_class, seed=42, index=0):\n",
    "        self.edges = edges\n",
    "        self.node_targets = train_targets\n",
    "        self.to_another_class = to_another_class\n",
    "        self.rng = np.random.default_rng(seed)\n",
    "        self.index = index\n",
    "        self.destination = [1, 2, 3, 4, 5, 6, 7, 8, 9, 0]\n",
    "        self.T = 1\n",
    "        self._setDestination()\n",
    "        self._setNodeInfo()\n",
    "    \n",
    "    def _setNodeInfo(self):\n",
    "        self.num_hops = self.to_another_class[self.index, self.dest]\n",
    "        self.label = self.node_targets[self.index]\n",
    "        \n",
    "    def _setDestination(self):\n",
    "        self.dest = self.destination[self.node_targets[self.index]]\n",
    "    \n",
    "    def _softmax(self, logit):\n",
    "        nume = np.exp(logit - np.max(logit)) / self.T\n",
    "        p = nume / np.sum(nume)\n",
    "        return p\n",
    "    \n",
    "    def _choice(self):\n",
    "        choices = np.unique(self.edges[np.isin(self.edges, self.index).any(1)])\n",
    "        cond = np.isin(self.node_targets[choices], [self.label, self.dest])\n",
    "        choices = choices[cond]\n",
    "        logit = -1 * self.to_another_class[choices, self.dest]\n",
    "        p = self._softmax(logit)\n",
    "        return self.rng.choice(choices, p=p)\n",
    "    \n",
    "    def walk(self):\n",
    "        self.index = self._choice()\n",
    "        self._setNodeInfo()\n",
    "        if self.num_hops == 0:\n",
    "            self._setDestination()\n",
    "        #print(f'{self.num_hops} hops to {self.dest} from {self.label}')"
   ]
  },
  {
   "cell_type": "code",
   "execution_count": 57,
   "id": "ccb0de3d-407c-42c3-b53f-03b66b89e27d",
   "metadata": {},
   "outputs": [],
   "source": [
    "tw = TimeWalker(\n",
    "    edges,\n",
    "    train_targets,\n",
    "    to_another_class\n",
    ")"
   ]
  },
  {
   "cell_type": "code",
   "execution_count": 58,
   "id": "d18721e6-90dd-4a91-8288-a76c823dd6c5",
   "metadata": {},
   "outputs": [
    {
     "data": {
      "image/png": "[encoded data removed]",
      "text/plain": [
       "<Figure size 432x288 with 1 Axes>"
      ]
     },
     "metadata": {},
     "output_type": "display_data"
    }
   ],
   "source": [
    "for i in range(100):\n",
    "    tw.walk()\n",
    "    plot(train_data, tw)\n",
    "    time.sleep(0.1)"
   ]
  },
  {
   "cell_type": "code",
   "execution_count": 10,
   "id": "8d071745-b485-43c9-ad7a-744ef8967760",
   "metadata": {},
   "outputs": [],
   "source": [
    "def plot(train_data, tw):\n",
    "    plt.gcf().clear()\n",
    "    plt.imshow(train_data[tw.index].reshape(28,28))\n",
    "    #plt.show()\n",
    "    plt.title(f'{tw.num_hops} hops to {tw.dest} from {tw.label}')\n",
    "    display.clear_output(wait=True)\n",
    "    display.display(pl.gcf())\n",
    "    plt.close()"
   ]
  },
  {
   "cell_type": "code",
   "execution_count": null,
   "id": "2087c27f-29e2-4bc7-9583-51179440081e",
   "metadata": {},
   "outputs": [],
   "source": []
  }
 ],
 "metadata": {
  "kernelspec": {
   "display_name": "Python 3 (ipykernel)",
   "language": "python",
   "name": "python3"
  },
  "language_info": {
   "codemirror_mode": {
    "name": "ipython",
    "version": 3
   },
   "file_extension": ".py",
   "mimetype": "text/x-python",
   "name": "python",
   "nbconvert_exporter": "python",
   "pygments_lexer": "ipython3",
   "version": "3.9.9"
  }
 },
 "nbformat": 4,
 "nbformat_minor": 5
}
